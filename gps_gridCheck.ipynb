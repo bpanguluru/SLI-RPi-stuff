{
 "cells": [
  {
   "cell_type": "code",
   "execution_count": 31,
   "id": "64e37cd8",
   "metadata": {
    "scrolled": true
   },
   "outputs": [
    {
     "name": "stdout",
     "output_type": "stream",
     "text": [
      "-0.0008940000000023929\n",
      "0.0007289999999997576\n"
     ]
    }
   ],
   "source": [
    "old_x_incr = (-117.809809 + 117.808915)\n",
    "old_y_incr = (35.347124 - 35.346395)\n",
    "print(old_x_incr)\n",
    "print(old_y_incr)"
   ]
  },
  {
   "cell_type": "code",
   "execution_count": 47,
   "id": "93194eb0",
   "metadata": {},
   "outputs": [
    {
     "name": "stdout",
     "output_type": "stream",
     "text": [
      "-0.0008940000000023929 -0.0007310000000018135\n"
     ]
    }
   ],
   "source": [
    "x_incr =(117.808914-117.809808)\n",
    "y_incr =(35.346394-35.347125)\n",
    "print(x_incr, y_incr)"
   ]
  },
  {
   "cell_type": "code",
   "execution_count": 108,
   "id": "c6166867",
   "metadata": {},
   "outputs": [],
   "source": [
    "start = [35.354304, -117.817844]"
   ]
  },
  {
   "cell_type": "code",
   "execution_count": 109,
   "id": "5a4c1742",
   "metadata": {},
   "outputs": [],
   "source": [
    "# newlist = []\n",
    "# newlist.append(start)\n",
    "# for i in range(400):\n",
    "#     if i%20 == 19 and i!=0:\n",
    "#         prev = newlist[len(newlist)-21]\n",
    "#         add = [newlist[i][0]+y_incr,newlist[i][1]]\n",
    "#         newlist.append(add) \n",
    "#     else: \n",
    "#         prev = newlist[-1]\n",
    "#         add = [newlist[i][0],newlist[i][1]-x_incr]\n",
    "#         newlist.append(add)\n",
    "        \n",
    "    "
   ]
  },
  {
   "cell_type": "code",
   "execution_count": 116,
   "id": "1c761cf9",
   "metadata": {},
   "outputs": [],
   "source": [
    "newlist = []\n",
    "newlist.append(start)\n",
    "for i in range(400):\n",
    "    if i%20 == 19 and i!=0:\n",
    "        #print(len(newlist))\n",
    "        prev = newlist[len(newlist)-20]\n",
    "        add = [prev[0]+y_incr,prev[1]]\n",
    "        newlist.append(add) \n",
    "    else: \n",
    "        prev = newlist[-1]\n",
    "        add = [prev[0],prev[1]-x_incr]\n",
    "        newlist.append(add)\n",
    "        "
   ]
  },
  {
   "cell_type": "code",
   "execution_count": 117,
   "id": "10bb9c93",
   "metadata": {
    "scrolled": true
   },
   "outputs": [
    {
     "name": "stdout",
     "output_type": "stream",
     "text": [
      "[35.354304, -117.817844]\n",
      "[35.354304, -117.81694999999999]\n",
      "[35.354304, -117.80085799999995]\n",
      "[35.353573, -117.817844]\n",
      "[35.353573, -117.81694999999999]\n",
      "-0.0007310000000018135\n",
      "-0.0007310000000018135\n"
     ]
    }
   ],
   "source": [
    "print(newlist[0])\n",
    "print(newlist[1])\n",
    "print(newlist[19])\n",
    "print(newlist[20])\n",
    "print(newlist[21])\n",
    "print(y_incr)\n",
    "print(newlist[21][0]-newlist[0][0])"
   ]
  },
  {
   "cell_type": "code",
   "execution_count": 1,
   "id": "eb80e204",
   "metadata": {},
   "outputs": [],
   "source": [
    "import pickle"
   ]
  },
  {
   "cell_type": "code",
   "execution_count": 5,
   "id": "605d3805",
   "metadata": {},
   "outputs": [
    {
     "name": "stdout",
     "output_type": "stream",
     "text": [
      "loaded\n",
      "[35.354405, -117.816947]\n"
     ]
    }
   ],
   "source": [
    "with open(r\"C:\\Users\\g_bab\\Downloads\\gps_topleftcoords (1).pkl\", \"rb\") as pf:\n",
    "    topleftcoords = pickle.load(pf)\n",
    "print(\"loaded\")\n",
    "print(topleftcoords[0])"
   ]
  },
  {
   "cell_type": "code",
   "execution_count": 118,
   "id": "e771a5d7",
   "metadata": {},
   "outputs": [],
   "source": [
    "ylat = 35.345419\n",
    "xlong = -117.813862"
   ]
  },
  {
   "cell_type": "code",
   "execution_count": 136,
   "id": "119c7e08",
   "metadata": {},
   "outputs": [],
   "source": [
    "ylat, xlong = 35.346278, -117.808345"
   ]
  },
  {
   "cell_type": "code",
   "execution_count": 137,
   "id": "f2b98572",
   "metadata": {},
   "outputs": [],
   "source": [
    "topleftcoords = newlist"
   ]
  },
  {
   "cell_type": "code",
   "execution_count": 138,
   "id": "ff6e1aa2",
   "metadata": {},
   "outputs": [],
   "source": [
    "sqr = 0\n",
    "for coords in topleftcoords:\n",
    "    sqr+=1\n",
    "    if (ylat <= coords[0] and ylat >= (coords[0]+ y_incr)):\n",
    "        if (xlong <= coords[1] and xlong >= coords[1]+x_incr):\n",
    "            break"
   ]
  },
  {
   "cell_type": "code",
   "execution_count": 139,
   "id": "762462ef",
   "metadata": {},
   "outputs": [
    {
     "name": "stdout",
     "output_type": "stream",
     "text": [
      "211\n"
     ]
    }
   ],
   "source": [
    "print(sqr-1)"
   ]
  },
  {
   "cell_type": "code",
   "execution_count": null,
   "id": "89871cb0",
   "metadata": {},
   "outputs": [],
   "source": []
  }
 ],
 "metadata": {
  "kernelspec": {
   "display_name": "Python 3 (ipykernel)",
   "language": "python",
   "name": "python3"
  },
  "language_info": {
   "codemirror_mode": {
    "name": "ipython",
    "version": 3
   },
   "file_extension": ".py",
   "mimetype": "text/x-python",
   "name": "python",
   "nbconvert_exporter": "python",
   "pygments_lexer": "ipython3",
   "version": "3.8.12"
  }
 },
 "nbformat": 4,
 "nbformat_minor": 5
}
